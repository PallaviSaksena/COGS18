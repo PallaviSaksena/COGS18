{
 "cells": [
  {
   "cell_type": "markdown",
   "metadata": {},
   "source": [
    "# Project Description"
   ]
  },
  {
   "cell_type": "markdown",
   "metadata": {},
   "source": [
    "I created a chatbot that allows you to play a name scrambler game! I created a list of Marvel characters, after being inspired by some Buzzfeed quizzes, such as this one: https://www.buzzfeed.com/isabellalouise/can-you-unscramble-the-letters-of-the-names-of-20-5jmqaf369w\n",
    "\n",
    "The chatbot chooses one of the characters from the list at random, scrambles the name, and displays it. To play, type in your guess of what the unscrambled name is! If you are correct, you will get 1 point added to your score. If you are incorrect, you will be told the correct answer, and your score will not change. If you want to give up on a round, simply type \"give up\" and you will also be given the correct answer with no change to your score. The chatbot will continue showing names for you to unscramble until you want to quit. To quit the chatbot game, type \"quit\". At the end of each round, you will be shown your most recent score.\n",
    "\n",
    "Note: If you run the chatbot again without restarting the kernel, the score will be continued from the previous round rather than restarting from 0.\n",
    "\n",
    "To test the chatbot, I recommend this order for your input:\n",
    "1. the correct answer\n",
    "2. an incorrect answer (can be a random letter or even a number!)\n",
    "3. \"give up\"\n",
    "4. another correct answer\n",
    "5. \"quit\"\n",
    "\n",
    "This way, you can see each of the four types of input work, make sure the score increases when it should (for each correct answer), and end the chatbot without having to play for too long."
   ]
  },
  {
   "cell_type": "markdown",
   "metadata": {},
   "source": [
    "## Project Code"
   ]
  },
  {
   "cell_type": "markdown",
   "metadata": {},
   "source": [
    "(For reference to make testing the game easier) Since I did not include the character list in this notebook, these are the characters I used:  \n",
    "* Iron Man, Captain America, Hulk, Black Widow, Hawkeye, and Thor\n",
    "\n",
    "I simplified the character list from what it was originally, because I felt that it might make it difficult to test, since even I was having trouble unscrambling some of the names. However, the list can be made much longer, and can even be adapted to play this game with other categories of words instead."
   ]
  },
  {
   "cell_type": "code",
   "execution_count": null,
   "metadata": {
    "scrolled": false
   },
   "outputs": [],
   "source": [
    "!pytest my_module/test_functions.py"
   ]
  },
  {
   "cell_type": "code",
   "execution_count": null,
   "metadata": {},
   "outputs": [],
   "source": [
    "from my_module import functions as f\n",
    "from my_module.functions import character_list"
   ]
  },
  {
   "cell_type": "code",
   "execution_count": null,
   "metadata": {
    "scrolled": true
   },
   "outputs": [],
   "source": [
    "f.run_chat(character_list)"
   ]
  },
  {
   "cell_type": "markdown",
   "metadata": {},
   "source": [
    "#### Extra Credit\n",
    "\n",
    "1. I have taken CSS 1, CSS 2, and CSS 100, so I had learned the basics of Python before this class. The CSS minor is focused more on using datasets, giving me experience with pandas, data visualization, and data analysis, but I wanted to try something different for this project.\n",
    "2. In CSS 1 and 2, we were always guided by the professors and given fairly simple coding tasks. In CSS 100, while it was about machine learning and felt more complex to understand, we did very little coding. I felt challenged in this class in coming up with my own ideas for code and putting them together in this project, especially for the functions (as that was most of my project). I'm not sure if I went much beyond the requirements, but I did write more functions than required. I've also noticed my own improvement and growing confidence in my coding skills from doing this project!"
   ]
  }
 ],
 "metadata": {
  "kernelspec": {
   "display_name": "Python 3 (ipykernel)",
   "language": "python",
   "name": "python3"
  },
  "language_info": {
   "codemirror_mode": {
    "name": "ipython",
    "version": 3
   },
   "file_extension": ".py",
   "mimetype": "text/x-python",
   "name": "python",
   "nbconvert_exporter": "python",
   "pygments_lexer": "ipython3",
   "version": "3.9.5"
  }
 },
 "nbformat": 4,
 "nbformat_minor": 2
}
